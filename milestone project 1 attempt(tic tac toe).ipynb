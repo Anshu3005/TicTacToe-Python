{
 "cells": [
  {
   "cell_type": "code",
   "execution_count": 1,
   "id": "af3fe691",
   "metadata": {},
   "outputs": [],
   "source": [
    "from IPython.display import clear_output\n",
    "\n",
    "def display_board(board):\n",
    "    clear_output()\n",
    "    print('   |   |')\n",
    "    print(' '+ board[7] + ' | ' + board[8] + ' | ' + board[9])\n",
    "    print('   |   |')\n",
    "    print('-----------')\n",
    "    print('   |   |')\n",
    "    print(' '+ board[4] + ' | ' + board[5] + ' | ' + board[6])\n",
    "    print('   |   |')\n",
    "    print('-----------')\n",
    "    print('   |   |')\n",
    "    print(' '+ board[1] + ' | ' + board[2] + ' | ' + board[3])\n",
    "    print('   |   |')"
   ]
  },
  {
   "cell_type": "code",
   "execution_count": 2,
   "id": "6f4659f2",
   "metadata": {},
   "outputs": [
    {
     "name": "stdout",
     "output_type": "stream",
     "text": [
      "   |   |\n",
      "   |   |  \n",
      "   |   |\n",
      "-----------\n",
      "   |   |\n",
      "   |   |  \n",
      "   |   |\n",
      "-----------\n",
      "   |   |\n",
      "   |   |  \n",
      "   |   |\n"
     ]
    }
   ],
   "source": [
    "board=[' ']*10\n",
    "\n",
    "display_board(board)"
   ]
  },
  {
   "cell_type": "code",
   "execution_count": 3,
   "id": "04aa4f1e",
   "metadata": {},
   "outputs": [],
   "source": [
    "def player_input():\n",
    "    \n",
    "    marker='wrong'\n",
    "    acceptable_choice=['X','O']\n",
    "    \n",
    "    while marker not in acceptable_choice:\n",
    "        marker = input('Player 1 - Pick your marker(X OR O): ').upper()\n",
    "        \n",
    "        if marker not in acceptable_choice:\n",
    "            print('Invalid choice!')\n",
    "    if marker =='X':\n",
    "        player1='X'\n",
    "        player2='O'\n",
    "    else:\n",
    "        player1='O'\n",
    "        player2='X'    \n",
    "    return(player1,player2)"
   ]
  },
  {
   "cell_type": "code",
   "execution_count": 52,
   "id": "e8106066",
   "metadata": {
    "scrolled": true
   },
   "outputs": [
    {
     "name": "stdout",
     "output_type": "stream",
     "text": [
      "Player 1 - Pick your marker(X OR O): r\n",
      "Invalid choice!\n",
      "Player 1 - Pick your marker(X OR O): x\n"
     ]
    },
    {
     "data": {
      "text/plain": [
       "('X', 'O')"
      ]
     },
     "execution_count": 52,
     "metadata": {},
     "output_type": "execute_result"
    }
   ],
   "source": [
    "player_input()"
   ]
  },
  {
   "cell_type": "code",
   "execution_count": 4,
   "id": "65e80d4b",
   "metadata": {},
   "outputs": [],
   "source": [
    "def place_marker(board,marker,position):\n",
    "    board[position]=marker\n"
   ]
  },
  {
   "cell_type": "code",
   "execution_count": 60,
   "id": "6b94aecb",
   "metadata": {},
   "outputs": [
    {
     "name": "stdout",
     "output_type": "stream",
     "text": [
      "   |   |\n",
      "   |   |  \n",
      "   |   |\n",
      "-----------\n",
      "   |   |\n",
      "   |   |  \n",
      "   |   |\n",
      "-----------\n",
      "   |   |\n",
      "   |   | X\n",
      "   |   |\n"
     ]
    }
   ],
   "source": [
    "place_marker(board,'X',3)\n",
    "display_board(board)"
   ]
  },
  {
   "cell_type": "code",
   "execution_count": 5,
   "id": "ac80df71",
   "metadata": {},
   "outputs": [],
   "source": [
    "def win_check(board,mark):\n",
    "    \n",
    "    return ((board[7]==mark and board[8]==mark and board[9]== mark) or \n",
    "            (board[4]==mark and board[5]==mark and board[6]== mark) or\n",
    "            (board[1]==mark and board[2]==mark and board[3]== mark) or\n",
    "            (board[7]==mark and board[4]==mark and board[1]== mark) or\n",
    "            (board[8]==mark and board[5]==mark and board[2]== mark) or\n",
    "            (board[9]==mark and board[6]==mark and board[3]== mark) or\n",
    "            (board[7]==mark and board[5]==mark and board[3]== mark) or\n",
    "            (board[9]==mark and board[5]==mark and board[1]== mark)) "
   ]
  },
  {
   "cell_type": "code",
   "execution_count": 63,
   "id": "16e8a2f6",
   "metadata": {},
   "outputs": [
    {
     "data": {
      "text/plain": [
       "True"
      ]
     },
     "execution_count": 63,
     "metadata": {},
     "output_type": "execute_result"
    }
   ],
   "source": [
    "win_check(board,' ')"
   ]
  },
  {
   "cell_type": "code",
   "execution_count": 6,
   "id": "f3f84a8b",
   "metadata": {},
   "outputs": [],
   "source": [
    "from random import randint\n",
    "\n",
    "def first_picker():\n",
    "    if randint(0,1)==1:\n",
    "        return 'player1'\n",
    "    else:\n",
    "        return 'player2'"
   ]
  },
  {
   "cell_type": "code",
   "execution_count": 72,
   "id": "61eac7e8",
   "metadata": {},
   "outputs": [
    {
     "data": {
      "text/plain": [
       "'player1'"
      ]
     },
     "execution_count": 72,
     "metadata": {},
     "output_type": "execute_result"
    }
   ],
   "source": [
    "first_picker()"
   ]
  },
  {
   "cell_type": "code",
   "execution_count": 11,
   "id": "adaf0e57",
   "metadata": {},
   "outputs": [],
   "source": [
    "def empty_check(board,position):\n",
    "    return board[position]==' '"
   ]
  },
  {
   "cell_type": "code",
   "execution_count": 7,
   "id": "3ed51514",
   "metadata": {},
   "outputs": [],
   "source": [
    "def fullboard_check(board):\n",
    "    for i in range(1,10):\n",
    "        if empty_check(board,i):\n",
    "            print(str(i)+'a')\n",
    "            return False\n",
    "            \n",
    "        else:\n",
    "            print(str(i)+'b')\n",
    "            if i==9:\n",
    "                return True\n",
    "            \n",
    "            "
   ]
  },
  {
   "cell_type": "code",
   "execution_count": 13,
   "id": "dd22f072",
   "metadata": {},
   "outputs": [
    {
     "name": "stdout",
     "output_type": "stream",
     "text": [
      "1a\n"
     ]
    },
    {
     "data": {
      "text/plain": [
       "False"
      ]
     },
     "execution_count": 13,
     "metadata": {},
     "output_type": "execute_result"
    }
   ],
   "source": [
    "fullboard_check(board)"
   ]
  },
  {
   "cell_type": "code",
   "execution_count": null,
   "id": "958b4cfe",
   "metadata": {},
   "outputs": [],
   "source": []
  },
  {
   "cell_type": "code",
   "execution_count": 8,
   "id": "8800b310",
   "metadata": {},
   "outputs": [],
   "source": [
    "def player_choice(board):\n",
    "    \n",
    "    position=0\n",
    "    \n",
    "    while position not in list(range(1,10)) or not empty_check(board,position):\n",
    "        position= int(input('choose your next position(1-9):'))\n",
    "        \n",
    "    return position\n",
    "    "
   ]
  },
  {
   "cell_type": "code",
   "execution_count": 9,
   "id": "d5a118f5",
   "metadata": {},
   "outputs": [],
   "source": [
    "def play_again():\n",
    "    \n",
    "    response='wrong'\n",
    "    \n",
    "    while response not in ['YES','NO']:\n",
    "        response= input('Do you want to play again? (YES OR NO):').upper()\n",
    "        \n",
    "        if response not in ['YES','NO']:\n",
    "            print('invalid response')\n",
    "    if response== 'YES':\n",
    "        return True\n",
    "    else:\n",
    "        return False"
   ]
  },
  {
   "cell_type": "code",
   "execution_count": 82,
   "id": "f4cb52c4",
   "metadata": {},
   "outputs": [
    {
     "name": "stdout",
     "output_type": "stream",
     "text": [
      "Do you want to play again? (YES OR NO):no\n"
     ]
    },
    {
     "data": {
      "text/plain": [
       "False"
      ]
     },
     "execution_count": 82,
     "metadata": {},
     "output_type": "execute_result"
    }
   ],
   "source": [
    "play_again()"
   ]
  },
  {
   "cell_type": "code",
   "execution_count": 12,
   "id": "101451be",
   "metadata": {},
   "outputs": [
    {
     "name": "stdout",
     "output_type": "stream",
     "text": [
      "   |   |\n",
      " X | X |  \n",
      "   |   |\n",
      "-----------\n",
      "   |   |\n",
      " O | O | O\n",
      "   |   |\n",
      "-----------\n",
      "   |   |\n",
      " X | O | X\n",
      "   |   |\n",
      "congratulation player2 won the game!\n",
      "Do you want to play again? (YES OR NO):yes\n",
      "Player 1 - Pick your marker(X OR O): x\n",
      "player1will go first\n",
      "Are you ready to play?(yes or no):no\n",
      "Do you want to play again? (YES OR NO):no\n"
     ]
    }
   ],
   "source": [
    "print('Welcome to Tic Tac Toe')\n",
    "\n",
    "while True:\n",
    "    board= [' ']*10\n",
    "    player1,player2=player_input()\n",
    "    chance=first_picker()\n",
    "    \n",
    "    print(chance+ 'will go first')\n",
    "    \n",
    "    start_game= input('Are you ready to play?(yes or no):')\n",
    "    \n",
    "    if start_game== 'yes':\n",
    "        start_game=True\n",
    "    else:\n",
    "        start_game= False\n",
    "    while start_game:\n",
    "        \n",
    "        if chance== 'player1':\n",
    "            display_board(board)\n",
    "            position= player_choice(board)\n",
    "            place_marker(board,player1,position)\n",
    "            \n",
    "            if win_check(board,player1):\n",
    "                display_board(board)\n",
    "                \n",
    "                print('congratulation player1 won the game!')\n",
    "                start_game=False\n",
    "            else:\n",
    "                if fullboard_check(board):\n",
    "                    display_board(board)\n",
    "                    print('The game is draw')\n",
    "                    break\n",
    "                else:\n",
    "                    chance='player2'\n",
    "        else:\n",
    "            display_board(board)\n",
    "            position= player_choice(board)\n",
    "            place_marker(board,player2,position)\n",
    "            \n",
    "            if win_check(board,player2):\n",
    "                display_board(board)\n",
    "                \n",
    "                print('congratulation player2 won the game!')\n",
    "                start_game=False\n",
    "            else:\n",
    "                if fullboard_check(board):\n",
    "                    display_board(board)\n",
    "                    print('The game is draw')\n",
    "                    break\n",
    "                else:\n",
    "                    chance='player1'\n",
    "    if not play_again():\n",
    "        break"
   ]
  },
  {
   "cell_type": "code",
   "execution_count": null,
   "id": "62d56acb",
   "metadata": {},
   "outputs": [],
   "source": []
  }
 ],
 "metadata": {
  "kernelspec": {
   "display_name": "Python 3 (ipykernel)",
   "language": "python",
   "name": "python3"
  },
  "language_info": {
   "codemirror_mode": {
    "name": "ipython",
    "version": 3
   },
   "file_extension": ".py",
   "mimetype": "text/x-python",
   "name": "python",
   "nbconvert_exporter": "python",
   "pygments_lexer": "ipython3",
   "version": "3.9.7"
  }
 },
 "nbformat": 4,
 "nbformat_minor": 5
}
